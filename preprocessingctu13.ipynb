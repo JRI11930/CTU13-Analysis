{
 "cells": [
  {
   "cell_type": "markdown",
   "metadata": {},
   "source": [
    "# **Preprocesamiento de los datos**\n",
    "---\n",
    "### Se fusionaran todos los archivos con extension .pcap del conjunto de datos CTU-13:"
   ]
  },
  {
   "cell_type": "code",
   "execution_count": 17,
   "metadata": {},
   "outputs": [],
   "source": [
    "import os\n",
    "import pandas as pd\n",
    "import matplotlib.pyplot as plt\n",
    "import seaborn as sns\n",
    "data_path = './CTU-13_data'\n",
    "\n",
    "data_file_names = [file for file in os.listdir(data_path)] # Lectura de los nombres de los archivos del directorio\n",
    "#print(data_file_names)  # Lista de strings que contiene el nombre de los archivos .parquet"
   ]
  },
  {
   "cell_type": "markdown",
   "metadata": {},
   "source": [
    "### Iteramos sobre los archivos que estan en la ruta especificada en ``` data_path = './CTU-13_data' ``` donde se hace la lectura de los archivos de .pcap para convertirlos a .csv."
   ]
  },
  {
   "cell_type": "code",
   "execution_count": null,
   "metadata": {},
   "outputs": [],
   "source": [
    "# Diccionario que contendra los dataframes despues de hacer el cast de parquet a pandas df\n",
    "data_frames = {}\n",
    "'''\n",
    "Iteramos sobre la lista de nombres para añadirlos al diccionario de dataframes\n",
    "\n",
    "Ejemplo del formato del diccionario seria: \n",
    "\n",
    "    {'1-Neris-20110810.binetflow.parquet': pd.DataFrame('./CTU-13_data/1-Neris-20110810.binetflow.parquet')}\n",
    "\n",
    "'''\n",
    "for file in data_file_names:\n",
    "    data_frames[file] = pd.read_parquet(f'{data_path}/{file}') "
   ]
  },
  {
   "cell_type": "markdown",
   "metadata": {},
   "source": [
    "### Ahora fusionamos todos los datasets"
   ]
  },
  {
   "cell_type": "code",
   "execution_count": null,
   "metadata": {},
   "outputs": [
    {
     "name": "stdout",
     "output_type": "stream",
     "text": [
      "        dur proto    dir state  stos  dtos  tot_pkts  tot_bytes  src_bytes  \\\n",
      "0  1.026539   tcp     ->  S_RA   0.0   0.0         4        276        156   \n",
      "1  1.009595   tcp     ->  S_RA   0.0   0.0         4        276        156   \n",
      "2  3.056586   tcp     ->  SR_A   0.0   0.0         3        182        122   \n",
      "3  3.111769   tcp     ->  SR_A   0.0   0.0         3        182        122   \n",
      "4  3.083411   tcp     ->  SR_A   0.0   0.0         3        182        122   \n",
      "\n",
      "                                    label                  Family  \n",
      "0  flow=Background-Established-cmpgw-CVUT  20110810.binetflow.csv  \n",
      "1  flow=Background-Established-cmpgw-CVUT  20110810.binetflow.csv  \n",
      "2             flow=Background-TCP-Attempt  20110810.binetflow.csv  \n",
      "3             flow=Background-TCP-Attempt  20110810.binetflow.csv  \n",
      "4             flow=Background-TCP-Attempt  20110810.binetflow.csv  \n",
      "(10598771, 11)\n"
     ]
    }
   ],
   "source": [
    "all_data = pd.concat([ data_frames[file] for file in data_file_names ])\n",
    "print(all_data.head())\n",
    "print(all_data.shape)"
   ]
  }
 ],
 "metadata": {
  "kernelspec": {
   "display_name": "Python 3",
   "language": "python",
   "name": "python3"
  },
  "language_info": {
   "codemirror_mode": {
    "name": "ipython",
    "version": 3
   },
   "file_extension": ".py",
   "mimetype": "text/x-python",
   "name": "python",
   "nbconvert_exporter": "python",
   "pygments_lexer": "ipython3",
   "version": "3.9.10"
  }
 },
 "nbformat": 4,
 "nbformat_minor": 2
}
